{
 "cells": [
  {
   "cell_type": "code",
   "execution_count": 1,
   "metadata": {
    "collapsed": true
   },
   "outputs": [],
   "source": [
    "import pandas as pd\n",
    "import numpy as np"
   ]
  },
  {
   "cell_type": "code",
   "execution_count": 2,
   "metadata": {
    "collapsed": true
   },
   "outputs": [],
   "source": [
    "filePath = pd.ExcelFile(\"Data/FEMA_Disaster incidents.xlsx\")"
   ]
  },
  {
   "cell_type": "code",
   "execution_count": 3,
   "metadata": {},
   "outputs": [
    {
     "data": {
      "text/plain": [
       "['Instructions', 'MetaData', 'FEMA Declarations']"
      ]
     },
     "execution_count": 3,
     "metadata": {},
     "output_type": "execute_result"
    }
   ],
   "source": [
    "filePath.sheet_names"
   ]
  },
  {
   "cell_type": "code",
   "execution_count": 4,
   "metadata": {},
   "outputs": [
    {
     "data": {
      "text/html": [
       "<div>\n",
       "<style>\n",
       "    .dataframe thead tr:only-child th {\n",
       "        text-align: right;\n",
       "    }\n",
       "\n",
       "    .dataframe thead th {\n",
       "        text-align: left;\n",
       "    }\n",
       "\n",
       "    .dataframe tbody tr th {\n",
       "        vertical-align: top;\n",
       "    }\n",
       "</style>\n",
       "<table border=\"1\" class=\"dataframe\">\n",
       "  <thead>\n",
       "    <tr style=\"text-align: right;\">\n",
       "      <th></th>\n",
       "      <th>Disaster Number</th>\n",
       "      <th>Year</th>\n",
       "      <th>Region</th>\n",
       "      <th>Region Number</th>\n",
       "      <th>State Abbreviation</th>\n",
       "      <th>State</th>\n",
       "      <th>County</th>\n",
       "      <th>Declaration Date</th>\n",
       "      <th>Disaster Type</th>\n",
       "      <th>Incident Type</th>\n",
       "      <th>Title</th>\n",
       "      <th>Incident Begin Date</th>\n",
       "      <th>Incident End Date</th>\n",
       "      <th>Disaster Close Out Date</th>\n",
       "    </tr>\n",
       "  </thead>\n",
       "  <tbody>\n",
       "    <tr>\n",
       "      <th>0</th>\n",
       "      <td>3</td>\n",
       "      <td>1953</td>\n",
       "      <td>Region VI</td>\n",
       "      <td>6</td>\n",
       "      <td>LA</td>\n",
       "      <td>Louisiana</td>\n",
       "      <td>Statewide</td>\n",
       "      <td>1953-05-29</td>\n",
       "      <td>DR</td>\n",
       "      <td>Flood</td>\n",
       "      <td>FLOOD</td>\n",
       "      <td>1953-05-29</td>\n",
       "      <td>1953-05-29</td>\n",
       "      <td>1960-02-01</td>\n",
       "    </tr>\n",
       "    <tr>\n",
       "      <th>1</th>\n",
       "      <td>1</td>\n",
       "      <td>1953</td>\n",
       "      <td>Region IV</td>\n",
       "      <td>4</td>\n",
       "      <td>GA</td>\n",
       "      <td>Georgia</td>\n",
       "      <td>Statewide</td>\n",
       "      <td>1953-05-02</td>\n",
       "      <td>DR</td>\n",
       "      <td>Tornado</td>\n",
       "      <td>TORNADO</td>\n",
       "      <td>1953-05-02</td>\n",
       "      <td>1953-05-02</td>\n",
       "      <td>1954-06-01</td>\n",
       "    </tr>\n",
       "    <tr>\n",
       "      <th>2</th>\n",
       "      <td>4</td>\n",
       "      <td>1953</td>\n",
       "      <td>Region V</td>\n",
       "      <td>5</td>\n",
       "      <td>MI</td>\n",
       "      <td>Michigan</td>\n",
       "      <td>Statewide</td>\n",
       "      <td>1953-06-02</td>\n",
       "      <td>DR</td>\n",
       "      <td>Tornado</td>\n",
       "      <td>TORNADO</td>\n",
       "      <td>1953-06-02</td>\n",
       "      <td>1953-06-02</td>\n",
       "      <td>1956-02-01</td>\n",
       "    </tr>\n",
       "    <tr>\n",
       "      <th>3</th>\n",
       "      <td>15</td>\n",
       "      <td>1954</td>\n",
       "      <td>Region IX</td>\n",
       "      <td>9</td>\n",
       "      <td>CA</td>\n",
       "      <td>California</td>\n",
       "      <td>Statewide</td>\n",
       "      <td>1954-02-05</td>\n",
       "      <td>DR</td>\n",
       "      <td>Flood</td>\n",
       "      <td>FLOOD &amp; EROSION</td>\n",
       "      <td>1954-02-05</td>\n",
       "      <td>1954-02-05</td>\n",
       "      <td>1957-09-01</td>\n",
       "    </tr>\n",
       "    <tr>\n",
       "      <th>4</th>\n",
       "      <td>25</td>\n",
       "      <td>1954</td>\n",
       "      <td>Region I</td>\n",
       "      <td>1</td>\n",
       "      <td>CT</td>\n",
       "      <td>Connecticut</td>\n",
       "      <td>Statewide</td>\n",
       "      <td>1954-09-17</td>\n",
       "      <td>DR</td>\n",
       "      <td>Hurricane</td>\n",
       "      <td>HURRICANES</td>\n",
       "      <td>1954-09-17</td>\n",
       "      <td>1954-09-17</td>\n",
       "      <td>1957-01-01</td>\n",
       "    </tr>\n",
       "  </tbody>\n",
       "</table>\n",
       "</div>"
      ],
      "text/plain": [
       "   Disaster Number  Year     Region  Region Number State Abbreviation  \\\n",
       "0                3  1953  Region VI              6                 LA   \n",
       "1                1  1953  Region IV              4                 GA   \n",
       "2                4  1953   Region V              5                 MI   \n",
       "3               15  1954  Region IX              9                 CA   \n",
       "4               25  1954   Region I              1                 CT   \n",
       "\n",
       "         State     County Declaration Date Disaster Type Incident Type  \\\n",
       "0    Louisiana  Statewide       1953-05-29            DR         Flood   \n",
       "1      Georgia  Statewide       1953-05-02            DR       Tornado   \n",
       "2     Michigan  Statewide       1953-06-02            DR       Tornado   \n",
       "3   California  Statewide       1954-02-05            DR         Flood   \n",
       "4  Connecticut  Statewide       1954-09-17            DR     Hurricane   \n",
       "\n",
       "             Title Incident Begin Date Incident End Date  \\\n",
       "0            FLOOD          1953-05-29        1953-05-29   \n",
       "1          TORNADO          1953-05-02        1953-05-02   \n",
       "2          TORNADO          1953-06-02        1953-06-02   \n",
       "3  FLOOD & EROSION          1954-02-05        1954-02-05   \n",
       "4       HURRICANES          1954-09-17        1954-09-17   \n",
       "\n",
       "  Disaster Close Out Date  \n",
       "0              1960-02-01  \n",
       "1              1954-06-01  \n",
       "2              1956-02-01  \n",
       "3              1957-09-01  \n",
       "4              1957-01-01  "
      ]
     },
     "execution_count": 4,
     "metadata": {},
     "output_type": "execute_result"
    }
   ],
   "source": [
    "df = filePath.parse(\"FEMA Declarations\")\n",
    "df.head()"
   ]
  },
  {
   "cell_type": "code",
   "execution_count": 5,
   "metadata": {},
   "outputs": [
    {
     "data": {
      "text/plain": [
       "Index(['Disaster Number', 'Year', 'Region', 'Region Number',\n",
       "       'State Abbreviation', 'State', 'County', 'Declaration Date',\n",
       "       'Disaster Type', 'Incident Type', 'Title', 'Incident Begin Date',\n",
       "       'Incident End Date', 'Disaster Close Out Date'],\n",
       "      dtype='object')"
      ]
     },
     "execution_count": 5,
     "metadata": {},
     "output_type": "execute_result"
    }
   ],
   "source": [
    "df.columns"
   ]
  },
  {
   "cell_type": "code",
   "execution_count": 6,
   "metadata": {},
   "outputs": [
    {
     "data": {
      "text/plain": [
       "Disaster Number                     int64\n",
       "Year                                int64\n",
       "Region                             object\n",
       "Region Number                       int64\n",
       "State Abbreviation                 object\n",
       "State                              object\n",
       "County                             object\n",
       "Declaration Date           datetime64[ns]\n",
       "Disaster Type                      object\n",
       "Incident Type                      object\n",
       "Title                              object\n",
       "Incident Begin Date        datetime64[ns]\n",
       "Incident End Date          datetime64[ns]\n",
       "Disaster Close Out Date    datetime64[ns]\n",
       "dtype: object"
      ]
     },
     "execution_count": 6,
     "metadata": {},
     "output_type": "execute_result"
    }
   ],
   "source": [
    "df.dtypes"
   ]
  },
  {
   "cell_type": "code",
   "execution_count": 7,
   "metadata": {
    "collapsed": true
   },
   "outputs": [],
   "source": [
    "# dfRange = df[(df['Year'] >= 1996) & (df['Year'] <= 2015)]\n",
    "# dfRange.head()"
   ]
  },
  {
   "cell_type": "code",
   "execution_count": 8,
   "metadata": {},
   "outputs": [
    {
     "data": {
      "text/plain": [
       "Disaster Number            34879\n",
       "Year                       34879\n",
       "Region                     34879\n",
       "Region Number              34879\n",
       "State Abbreviation         34879\n",
       "State                      34879\n",
       "County                     34879\n",
       "Declaration Date           34879\n",
       "Disaster Type              34879\n",
       "Incident Type              34879\n",
       "Title                      34879\n",
       "Incident Begin Date        34879\n",
       "Incident End Date          34879\n",
       "Disaster Close Out Date    34879\n",
       "dtype: int64"
      ]
     },
     "execution_count": 8,
     "metadata": {},
     "output_type": "execute_result"
    }
   ],
   "source": [
    "#drop NaN\n",
    "dfClean = df.dropna(how=\"any\")\n",
    "dfClean.count()"
   ]
  },
  {
   "cell_type": "code",
   "execution_count": 14,
   "metadata": {},
   "outputs": [
    {
     "data": {
      "text/html": [
       "<div>\n",
       "<style>\n",
       "    .dataframe thead tr:only-child th {\n",
       "        text-align: right;\n",
       "    }\n",
       "\n",
       "    .dataframe thead th {\n",
       "        text-align: left;\n",
       "    }\n",
       "\n",
       "    .dataframe tbody tr th {\n",
       "        vertical-align: top;\n",
       "    }\n",
       "</style>\n",
       "<table border=\"1\" class=\"dataframe\">\n",
       "  <thead>\n",
       "    <tr style=\"text-align: right;\">\n",
       "      <th></th>\n",
       "      <th>Year</th>\n",
       "      <th>Incident Type</th>\n",
       "    </tr>\n",
       "  </thead>\n",
       "  <tbody>\n",
       "    <tr>\n",
       "      <th>0</th>\n",
       "      <td>1953</td>\n",
       "      <td>Flood</td>\n",
       "    </tr>\n",
       "    <tr>\n",
       "      <th>1</th>\n",
       "      <td>1953</td>\n",
       "      <td>Tornado</td>\n",
       "    </tr>\n",
       "    <tr>\n",
       "      <th>2</th>\n",
       "      <td>1953</td>\n",
       "      <td>Tornado</td>\n",
       "    </tr>\n",
       "    <tr>\n",
       "      <th>3</th>\n",
       "      <td>1954</td>\n",
       "      <td>Flood</td>\n",
       "    </tr>\n",
       "    <tr>\n",
       "      <th>4</th>\n",
       "      <td>1954</td>\n",
       "      <td>Hurricane</td>\n",
       "    </tr>\n",
       "  </tbody>\n",
       "</table>\n",
       "</div>"
      ],
      "text/plain": [
       "   Year Incident Type\n",
       "0  1953         Flood\n",
       "1  1953       Tornado\n",
       "2  1953       Tornado\n",
       "3  1954         Flood\n",
       "4  1954     Hurricane"
      ]
     },
     "execution_count": 14,
     "metadata": {},
     "output_type": "execute_result"
    }
   ],
   "source": [
    "#setDesiredTable\n",
    "dfTable=df[[\"Year\", \"Incident Type\"]]\n",
    "dfTable.head()"
   ]
  },
  {
   "cell_type": "code",
   "execution_count": 15,
   "metadata": {},
   "outputs": [
    {
     "data": {
      "text/html": [
       "<div>\n",
       "<style>\n",
       "    .dataframe thead tr:only-child th {\n",
       "        text-align: right;\n",
       "    }\n",
       "\n",
       "    .dataframe thead th {\n",
       "        text-align: left;\n",
       "    }\n",
       "\n",
       "    .dataframe tbody tr th {\n",
       "        vertical-align: top;\n",
       "    }\n",
       "</style>\n",
       "<table border=\"1\" class=\"dataframe\">\n",
       "  <thead>\n",
       "    <tr style=\"text-align: right;\">\n",
       "      <th></th>\n",
       "      <th>Incident Type</th>\n",
       "    </tr>\n",
       "    <tr>\n",
       "      <th>Year</th>\n",
       "      <th></th>\n",
       "    </tr>\n",
       "  </thead>\n",
       "  <tbody>\n",
       "    <tr>\n",
       "      <th>1953</th>\n",
       "      <td>13</td>\n",
       "    </tr>\n",
       "    <tr>\n",
       "      <th>1954</th>\n",
       "      <td>17</td>\n",
       "    </tr>\n",
       "    <tr>\n",
       "      <th>1955</th>\n",
       "      <td>18</td>\n",
       "    </tr>\n",
       "    <tr>\n",
       "      <th>1956</th>\n",
       "      <td>16</td>\n",
       "    </tr>\n",
       "    <tr>\n",
       "      <th>1957</th>\n",
       "      <td>16</td>\n",
       "    </tr>\n",
       "    <tr>\n",
       "      <th>1958</th>\n",
       "      <td>7</td>\n",
       "    </tr>\n",
       "    <tr>\n",
       "      <th>1959</th>\n",
       "      <td>7</td>\n",
       "    </tr>\n",
       "    <tr>\n",
       "      <th>1960</th>\n",
       "      <td>12</td>\n",
       "    </tr>\n",
       "    <tr>\n",
       "      <th>1961</th>\n",
       "      <td>12</td>\n",
       "    </tr>\n",
       "    <tr>\n",
       "      <th>1962</th>\n",
       "      <td>22</td>\n",
       "    </tr>\n",
       "  </tbody>\n",
       "</table>\n",
       "</div>"
      ],
      "text/plain": [
       "      Incident Type\n",
       "Year               \n",
       "1953             13\n",
       "1954             17\n",
       "1955             18\n",
       "1956             16\n",
       "1957             16\n",
       "1958              7\n",
       "1959              7\n",
       "1960             12\n",
       "1961             12\n",
       "1962             22"
      ]
     },
     "execution_count": 15,
     "metadata": {},
     "output_type": "execute_result"
    }
   ],
   "source": [
    "#Grouping dataFrame\n",
    "df_Group = dfTable.groupby([\"Year\"]).count()\n",
    "df_Group.head(10)"
   ]
  },
  {
   "cell_type": "code",
   "execution_count": null,
   "metadata": {
    "collapsed": true
   },
   "outputs": [],
   "source": []
  }
 ],
 "metadata": {
  "kernelspec": {
   "display_name": "Python [default]",
   "language": "python",
   "name": "python3"
  },
  "language_info": {
   "codemirror_mode": {
    "name": "ipython",
    "version": 3
   },
   "file_extension": ".py",
   "mimetype": "text/x-python",
   "name": "python",
   "nbconvert_exporter": "python",
   "pygments_lexer": "ipython3",
   "version": "3.6.2"
  }
 },
 "nbformat": 4,
 "nbformat_minor": 2
}
